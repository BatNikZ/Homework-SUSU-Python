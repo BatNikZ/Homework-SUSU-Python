{
 "cells": [
  {
   "cell_type": "code",
   "execution_count": 2,
   "id": "05406a41",
   "metadata": {},
   "outputs": [
    {
     "data": {
      "text/plain": [
       "array([0, 1, 2, 3, 4, 5, 6, 7, 8, 9])"
      ]
     },
     "execution_count": 2,
     "metadata": {},
     "output_type": "execute_result"
    }
   ],
   "source": [
    "import numpy as np\n",
    "\n",
    "arr = np.arange(10)\n",
    "arr"
   ]
  },
  {
   "cell_type": "code",
   "execution_count": 3,
   "id": "580017b8",
   "metadata": {},
   "outputs": [
    {
     "data": {
      "text/plain": [
       "array([0.        , 1.        , 1.41421356, 1.73205081, 2.        ,\n",
       "       2.23606798, 2.44948974, 2.64575131, 2.82842712, 3.        ])"
      ]
     },
     "execution_count": 3,
     "metadata": {},
     "output_type": "execute_result"
    }
   ],
   "source": [
    "np.sqrt(arr)"
   ]
  },
  {
   "cell_type": "code",
   "execution_count": 4,
   "id": "19cd75be",
   "metadata": {},
   "outputs": [
    {
     "data": {
      "text/plain": [
       "array([1.00000000e+00, 2.71828183e+00, 7.38905610e+00, 2.00855369e+01,\n",
       "       5.45981500e+01, 1.48413159e+02, 4.03428793e+02, 1.09663316e+03,\n",
       "       2.98095799e+03, 8.10308393e+03])"
      ]
     },
     "execution_count": 4,
     "metadata": {},
     "output_type": "execute_result"
    }
   ],
   "source": [
    "np.exp(arr)"
   ]
  },
  {
   "cell_type": "code",
   "execution_count": 6,
   "id": "837ccb77",
   "metadata": {},
   "outputs": [],
   "source": [
    "import numpy as np\n",
    "\n",
    "x = np.random.randn(8)\n",
    "y = np.random.randn(8)"
   ]
  },
  {
   "cell_type": "code",
   "execution_count": 7,
   "id": "781e827a",
   "metadata": {},
   "outputs": [
    {
     "data": {
      "text/plain": [
       "array([ 0.75674145,  0.01490983, -1.50170551, -2.84162706,  2.38021827,\n",
       "        0.09953473,  0.35396719,  0.27676996])"
      ]
     },
     "execution_count": 7,
     "metadata": {},
     "output_type": "execute_result"
    }
   ],
   "source": [
    "x"
   ]
  },
  {
   "cell_type": "code",
   "execution_count": 8,
   "id": "796e3458",
   "metadata": {},
   "outputs": [
    {
     "data": {
      "text/plain": [
       "array([ 1.31352474,  2.01927305,  0.08071285, -0.44397827, -0.79531468,\n",
       "       -1.48490325,  1.93097446,  0.71760203])"
      ]
     },
     "execution_count": 8,
     "metadata": {},
     "output_type": "execute_result"
    }
   ],
   "source": [
    "y"
   ]
  },
  {
   "cell_type": "code",
   "execution_count": 9,
   "id": "5a263fec",
   "metadata": {},
   "outputs": [
    {
     "data": {
      "text/plain": [
       "array([ 1.31352474,  2.01927305,  0.08071285, -0.44397827,  2.38021827,\n",
       "        0.09953473,  1.93097446,  0.71760203])"
      ]
     },
     "execution_count": 9,
     "metadata": {},
     "output_type": "execute_result"
    }
   ],
   "source": [
    "np.maximum(x,y)"
   ]
  },
  {
   "cell_type": "code",
   "execution_count": 10,
   "id": "9a7faca5",
   "metadata": {},
   "outputs": [
    {
     "data": {
      "text/plain": [
       "array([ 2.54007994,  0.89591695,  1.45008253,  2.72027579, -1.5785814 ,\n",
       "       -3.4325776 , -0.44555863])"
      ]
     },
     "execution_count": 10,
     "metadata": {},
     "output_type": "execute_result"
    }
   ],
   "source": [
    "import numpy as np\n",
    "\n",
    "arr = np.random.randn(7) * 5\n",
    "arr"
   ]
  },
  {
   "cell_type": "code",
   "execution_count": 11,
   "id": "2e96ae3e",
   "metadata": {},
   "outputs": [
    {
     "data": {
      "text/plain": [
       "array([ 0.54007994,  0.89591695,  0.45008253,  0.72027579, -0.5785814 ,\n",
       "       -0.4325776 , -0.44555863])"
      ]
     },
     "execution_count": 11,
     "metadata": {},
     "output_type": "execute_result"
    }
   ],
   "source": [
    "remainder, whole_part = np.modf(arr)\n",
    "remainder"
   ]
  },
  {
   "cell_type": "code",
   "execution_count": 12,
   "id": "7a68e888",
   "metadata": {},
   "outputs": [
    {
     "data": {
      "text/plain": [
       "array([ 2.,  0.,  1.,  2., -1., -3., -0.])"
      ]
     },
     "execution_count": 12,
     "metadata": {},
     "output_type": "execute_result"
    }
   ],
   "source": [
    "whole_part"
   ]
  },
  {
   "cell_type": "code",
   "execution_count": 13,
   "id": "c818a0da",
   "metadata": {},
   "outputs": [
    {
     "data": {
      "text/plain": [
       "array([ 2.54007994,  0.89591695,  1.45008253,  2.72027579, -1.5785814 ,\n",
       "       -3.4325776 , -0.44555863])"
      ]
     },
     "execution_count": 13,
     "metadata": {},
     "output_type": "execute_result"
    }
   ],
   "source": [
    "arr"
   ]
  },
  {
   "cell_type": "code",
   "execution_count": 14,
   "id": "858e93f4",
   "metadata": {},
   "outputs": [
    {
     "name": "stderr",
     "output_type": "stream",
     "text": [
      "C:\\Users\\nikik\\AppData\\Local\\Temp\\ipykernel_2416\\2296558006.py:1: RuntimeWarning: invalid value encountered in sqrt\n",
      "  np.sqrt(arr)\n"
     ]
    },
    {
     "data": {
      "text/plain": [
       "array([1.59376282, 0.94652889, 1.20419372, 1.64932586,        nan,\n",
       "              nan,        nan])"
      ]
     },
     "execution_count": 14,
     "metadata": {},
     "output_type": "execute_result"
    }
   ],
   "source": [
    "np.sqrt(arr)"
   ]
  },
  {
   "cell_type": "code",
   "execution_count": 15,
   "id": "59320450",
   "metadata": {},
   "outputs": [
    {
     "name": "stderr",
     "output_type": "stream",
     "text": [
      "C:\\Users\\nikik\\AppData\\Local\\Temp\\ipykernel_2416\\269955669.py:1: RuntimeWarning: invalid value encountered in sqrt\n",
      "  np.sqrt(arr, arr)\n"
     ]
    },
    {
     "data": {
      "text/plain": [
       "array([1.59376282, 0.94652889, 1.20419372, 1.64932586,        nan,\n",
       "              nan,        nan])"
      ]
     },
     "execution_count": 15,
     "metadata": {},
     "output_type": "execute_result"
    }
   ],
   "source": [
    "np.sqrt(arr, arr)"
   ]
  },
  {
   "cell_type": "code",
   "execution_count": 16,
   "id": "db8aaf39",
   "metadata": {},
   "outputs": [
    {
     "data": {
      "text/plain": [
       "array([1.59376282, 0.94652889, 1.20419372, 1.64932586,        nan,\n",
       "              nan,        nan])"
      ]
     },
     "execution_count": 16,
     "metadata": {},
     "output_type": "execute_result"
    }
   ],
   "source": [
    "arr"
   ]
  },
  {
   "cell_type": "markdown",
   "id": "c484815e",
   "metadata": {},
   "source": [
    "<h2>Задание 1:</h2>"
   ]
  },
  {
   "cell_type": "markdown",
   "id": "367d4bc7",
   "metadata": {},
   "source": [
    "<h3>1:</h3>"
   ]
  },
  {
   "cell_type": "markdown",
   "id": "c93db633",
   "metadata": {},
   "source": [
    "abs(x): возвращает абсолютное значение числа x.\n",
    "\n",
    "fabs(x): возвращает абсолютное значение числа с плавающей запятой x.\n",
    "\n",
    "sqrt(x): возвращает квадратный корень числа x.\n",
    "\n",
    "square(x): возвращает квадрат числа x.\n",
    "\n",
    "exp(x): возвращает экспоненту числа x.\n",
    "\n",
    "log(x): возвращает натуральный логарифм числа x.\n",
    "\n",
    "log10(x): возвращает десятичный логарифм числа x.\n",
    "\n",
    "\n",
    "log2(x): возвращает двоичный логарифм числа x.\n",
    "\n",
    "log1p(x): возвращает натуральный логарифм (1 + x).\n",
    "\n",
    "sign(x): возвращает знак числа x (-1, 0 или 1).\n",
    "\n",
    "ceil(x): округляет число x до ближайшего большего целого.\n",
    "\n",
    "floor(x): округляет число x до ближайшего меньшего целого.\n",
    "\n",
    "rint(x): округляет число x до ближайшего целого, с половинными значениями округляется к ближайшему четному целому.\n",
    "\n",
    "modf(x, y): возвращает дробную и целую части числа x в виде отдельных значений.\n",
    "\n",
    "isnan(x): проверяет, является ли число x NaN (не число).\n",
    "\n",
    "isfinite(x): проверяет, является ли число x конечным числом.\n",
    "\n",
    "isinf(x): проверяет, является ли число x бесконечностью.\n",
    "\n",
    "cos(x): возвращает косинус угла x (в радианах).\n",
    "\n",
    "cosh(x): возвращает гиперболический косинус угла x.\n",
    "\n",
    "sin(x): возвращает синус угла x (в радианах).\n",
    "\n",
    "sinh(x): возвращает гиперболический синус угла x.\n",
    "\n",
    "tan(x): возвращает тангенс угла x (в радианах).\n",
    "\n",
    "tanh(x): возвращает гиперболический тангенс угла x.\n",
    "\n",
    "arccos(x): возвращает арккосинус числа x (в радианах).\n",
    "\n",
    "arccosh(x): возвращает гиперболический арккосинус числа x.\n",
    "\n",
    "arcsin(x): возвращает арксинус числа x (в радианах).\n",
    "\n",
    "arcsinh(x): возвращает гиперболический арксинус числа x.\n",
    "\n",
    "arctan(x): возвращает арктангенс числа x (в радианах).\n",
    "\n",
    "arctanh(x): возвращает гиперболический арктангенс числа x.\n",
    "\n",
    "logical_not(x): выполняет логическую операцию \"НЕ\" над значением или массивом значений."
   ]
  },
  {
   "cell_type": "code",
   "execution_count": 19,
   "id": "9dcccca7",
   "metadata": {
    "scrolled": true
   },
   "outputs": [
    {
     "data": {
      "text/plain": [
       "array([1.59376282, 0.94652889, 1.20419372, 1.64932586,        nan,\n",
       "              nan,        nan])"
      ]
     },
     "execution_count": 19,
     "metadata": {},
     "output_type": "execute_result"
    }
   ],
   "source": [
    "np.abs(arr)"
   ]
  },
  {
   "cell_type": "code",
   "execution_count": 20,
   "id": "c2658745",
   "metadata": {},
   "outputs": [
    {
     "data": {
      "text/plain": [
       "array([1.59376282, 0.94652889, 1.20419372, 1.64932586,        nan,\n",
       "              nan,        nan])"
      ]
     },
     "execution_count": 20,
     "metadata": {},
     "output_type": "execute_result"
    }
   ],
   "source": [
    "np.fabs(arr)"
   ]
  },
  {
   "cell_type": "code",
   "execution_count": 21,
   "id": "0cdbfebf",
   "metadata": {},
   "outputs": [
    {
     "data": {
      "text/plain": [
       "array([1.2624432 , 0.97289717, 1.09735761, 1.28426082,        nan,\n",
       "              nan,        nan])"
      ]
     },
     "execution_count": 21,
     "metadata": {},
     "output_type": "execute_result"
    }
   ],
   "source": [
    "np.sqrt(arr)"
   ]
  },
  {
   "cell_type": "code",
   "execution_count": 22,
   "id": "ce36599c",
   "metadata": {},
   "outputs": [
    {
     "data": {
      "text/plain": [
       "array([4.92223563, 2.57674995, 3.33406981, 5.20347077,        nan,\n",
       "              nan,        nan])"
      ]
     },
     "execution_count": 22,
     "metadata": {},
     "output_type": "execute_result"
    }
   ],
   "source": [
    "np.exp(arr)"
   ]
  },
  {
   "cell_type": "code",
   "execution_count": 23,
   "id": "2b9c3415",
   "metadata": {},
   "outputs": [
    {
     "data": {
      "text/plain": [
       "array([ 0.46609778, -0.05495378,  0.18581023,  0.50036663,         nan,\n",
       "               nan,         nan])"
      ]
     },
     "execution_count": 23,
     "metadata": {},
     "output_type": "execute_result"
    }
   ],
   "source": [
    "np.log(arr)"
   ]
  },
  {
   "cell_type": "code",
   "execution_count": 25,
   "id": "44e98b5e",
   "metadata": {},
   "outputs": [
    {
     "data": {
      "text/plain": [
       "array([ 0.20242369, -0.02386612,  0.08069636,  0.21730647,         nan,\n",
       "               nan,         nan])"
      ]
     },
     "execution_count": 25,
     "metadata": {},
     "output_type": "execute_result"
    }
   ],
   "source": [
    "np.log10(arr)"
   ]
  },
  {
   "cell_type": "code",
   "execution_count": 26,
   "id": "3a25b754",
   "metadata": {},
   "outputs": [
    {
     "data": {
      "text/plain": [
       "array([0.95310965, 0.66604773, 0.79036178, 0.97430521,        nan,\n",
       "              nan,        nan])"
      ]
     },
     "execution_count": 26,
     "metadata": {},
     "output_type": "execute_result"
    }
   ],
   "source": [
    "np.log1p(arr)"
   ]
  },
  {
   "cell_type": "code",
   "execution_count": 27,
   "id": "1b22021d",
   "metadata": {},
   "outputs": [
    {
     "data": {
      "text/plain": [
       "array([ 1.,  1.,  1.,  1., nan, nan, nan])"
      ]
     },
     "execution_count": 27,
     "metadata": {},
     "output_type": "execute_result"
    }
   ],
   "source": [
    "np.sign(arr)"
   ]
  },
  {
   "cell_type": "code",
   "execution_count": 28,
   "id": "0521c2d1",
   "metadata": {},
   "outputs": [
    {
     "data": {
      "text/plain": [
       "array([ 2.,  1.,  2.,  2., nan, nan, nan])"
      ]
     },
     "execution_count": 28,
     "metadata": {},
     "output_type": "execute_result"
    }
   ],
   "source": [
    "np.ceil(arr)"
   ]
  },
  {
   "cell_type": "code",
   "execution_count": 29,
   "id": "25037351",
   "metadata": {},
   "outputs": [
    {
     "data": {
      "text/plain": [
       "array([ 1.,  0.,  1.,  1., nan, nan, nan])"
      ]
     },
     "execution_count": 29,
     "metadata": {},
     "output_type": "execute_result"
    }
   ],
   "source": [
    "np.floor(arr)"
   ]
  },
  {
   "cell_type": "code",
   "execution_count": 30,
   "id": "36c54efe",
   "metadata": {},
   "outputs": [
    {
     "data": {
      "text/plain": [
       "array([ 2.,  1.,  1.,  2., nan, nan, nan])"
      ]
     },
     "execution_count": 30,
     "metadata": {},
     "output_type": "execute_result"
    }
   ],
   "source": [
    "np.rint(arr)"
   ]
  },
  {
   "cell_type": "code",
   "execution_count": 31,
   "id": "6cd69e56",
   "metadata": {},
   "outputs": [
    {
     "data": {
      "text/plain": [
       "(array([0.59376282, 0.94652889, 0.20419372, 0.64932586,        nan,\n",
       "               nan,        nan]),\n",
       " array([ 1.,  0.,  1.,  1., nan, nan, nan]))"
      ]
     },
     "execution_count": 31,
     "metadata": {},
     "output_type": "execute_result"
    }
   ],
   "source": [
    "np.modf(arr)"
   ]
  },
  {
   "cell_type": "code",
   "execution_count": 32,
   "id": "07018567",
   "metadata": {},
   "outputs": [
    {
     "data": {
      "text/plain": [
       "array([False, False, False, False,  True,  True,  True])"
      ]
     },
     "execution_count": 32,
     "metadata": {},
     "output_type": "execute_result"
    }
   ],
   "source": [
    "np.isnan(arr)"
   ]
  },
  {
   "cell_type": "code",
   "execution_count": 33,
   "id": "31d1f92e",
   "metadata": {},
   "outputs": [
    {
     "data": {
      "text/plain": [
       "array([ True,  True,  True,  True, False, False, False])"
      ]
     },
     "execution_count": 33,
     "metadata": {},
     "output_type": "execute_result"
    }
   ],
   "source": [
    "np.isfinite(arr)"
   ]
  },
  {
   "cell_type": "code",
   "execution_count": 34,
   "id": "606e9ee3",
   "metadata": {},
   "outputs": [
    {
     "data": {
      "text/plain": [
       "array([False, False, False, False, False, False, False])"
      ]
     },
     "execution_count": 34,
     "metadata": {},
     "output_type": "execute_result"
    }
   ],
   "source": [
    "np.isinf(arr)"
   ]
  },
  {
   "cell_type": "code",
   "execution_count": 37,
   "id": "cea0be1b",
   "metadata": {},
   "outputs": [
    {
     "data": {
      "text/plain": [
       "array([-0.02296448,  0.58450303,  0.35844586, -0.07844884,         nan,\n",
       "               nan,         nan])"
      ]
     },
     "execution_count": 37,
     "metadata": {},
     "output_type": "execute_result"
    }
   ],
   "source": [
    "np.cos(arr)"
   ]
  },
  {
   "cell_type": "code",
   "execution_count": 38,
   "id": "73395abe",
   "metadata": {},
   "outputs": [
    {
     "data": {
      "text/plain": [
       "array([2.56269767, 1.48241786, 1.81700177, 2.69782509,        nan,\n",
       "              nan,        nan])"
      ]
     },
     "execution_count": 38,
     "metadata": {},
     "output_type": "execute_result"
    }
   ],
   "source": [
    "np.cosh(arr)"
   ]
  },
  {
   "cell_type": "code",
   "execution_count": 39,
   "id": "d9d142a3",
   "metadata": {},
   "outputs": [
    {
     "data": {
      "text/plain": [
       "array([0.99973628, 0.81139153, 0.93355051, 0.99691814,        nan,\n",
       "              nan,        nan])"
      ]
     },
     "execution_count": 39,
     "metadata": {},
     "output_type": "execute_result"
    }
   ],
   "source": [
    "np.sin(arr)"
   ]
  },
  {
   "cell_type": "code",
   "execution_count": 40,
   "id": "0985bdc5",
   "metadata": {},
   "outputs": [
    {
     "data": {
      "text/plain": [
       "array([2.35953796, 1.09433209, 1.51706804, 2.50564567,        nan,\n",
       "              nan,        nan])"
      ]
     },
     "execution_count": 40,
     "metadata": {},
     "output_type": "execute_result"
    }
   ],
   "source": [
    "np.sinh(arr)"
   ]
  },
  {
   "cell_type": "code",
   "execution_count": 41,
   "id": "5a2b743b",
   "metadata": {},
   "outputs": [
    {
     "data": {
      "text/plain": [
       "array([-43.53402951,   1.38817334,   2.60443935, -12.70787572,\n",
       "                nan,          nan,          nan])"
      ]
     },
     "execution_count": 41,
     "metadata": {},
     "output_type": "execute_result"
    }
   ],
   "source": [
    "np.tan(arr)"
   ]
  },
  {
   "cell_type": "code",
   "execution_count": 42,
   "id": "b05f37e7",
   "metadata": {},
   "outputs": [
    {
     "data": {
      "text/plain": [
       "array([0.92072427, 0.73820757, 0.83492931, 0.92876506,        nan,\n",
       "              nan,        nan])"
      ]
     },
     "execution_count": 42,
     "metadata": {},
     "output_type": "execute_result"
    }
   ],
   "source": [
    "np.tanh(arr)"
   ]
  },
  {
   "cell_type": "code",
   "execution_count": 43,
   "id": "5cd25d9d",
   "metadata": {},
   "outputs": [
    {
     "name": "stderr",
     "output_type": "stream",
     "text": [
      "C:\\Users\\nikik\\AppData\\Local\\Temp\\ipykernel_2416\\3874515196.py:1: RuntimeWarning: invalid value encountered in arccos\n",
      "  np.arccos(arr)\n"
     ]
    },
    {
     "data": {
      "text/plain": [
       "array([       nan, 0.32849519,        nan,        nan,        nan,\n",
       "              nan,        nan])"
      ]
     },
     "execution_count": 43,
     "metadata": {},
     "output_type": "execute_result"
    }
   ],
   "source": [
    "np.arccos(arr)"
   ]
  },
  {
   "cell_type": "code",
   "execution_count": 44,
   "id": "dfbf7445",
   "metadata": {},
   "outputs": [
    {
     "name": "stderr",
     "output_type": "stream",
     "text": [
      "C:\\Users\\nikik\\AppData\\Local\\Temp\\ipykernel_2416\\1429270968.py:1: RuntimeWarning: invalid value encountered in arccosh\n",
      "  np.arccosh(arr)\n"
     ]
    },
    {
     "data": {
      "text/plain": [
       "array([1.04195812,        nan, 0.62864899, 1.08549959,        nan,\n",
       "              nan,        nan])"
      ]
     },
     "execution_count": 44,
     "metadata": {},
     "output_type": "execute_result"
    }
   ],
   "source": [
    "np.arccosh(arr)"
   ]
  },
  {
   "cell_type": "code",
   "execution_count": 45,
   "id": "93f2b24a",
   "metadata": {},
   "outputs": [
    {
     "name": "stderr",
     "output_type": "stream",
     "text": [
      "C:\\Users\\nikik\\AppData\\Local\\Temp\\ipykernel_2416\\1580827672.py:1: RuntimeWarning: invalid value encountered in arcsin\n",
      "  np.arcsin(arr)\n"
     ]
    },
    {
     "data": {
      "text/plain": [
       "array([       nan, 1.24230113,        nan,        nan,        nan,\n",
       "              nan,        nan])"
      ]
     },
     "execution_count": 45,
     "metadata": {},
     "output_type": "execute_result"
    }
   ],
   "source": [
    "np.arcsin(arr)"
   ]
  },
  {
   "cell_type": "code",
   "execution_count": 46,
   "id": "4e4c3107",
   "metadata": {},
   "outputs": [
    {
     "data": {
      "text/plain": [
       "array([1.24567299, 0.84305397, 1.01865512, 1.27483962,        nan,\n",
       "              nan,        nan])"
      ]
     },
     "execution_count": 46,
     "metadata": {},
     "output_type": "execute_result"
    }
   ],
   "source": [
    "np.arcsinh(arr)"
   ]
  },
  {
   "cell_type": "code",
   "execution_count": 47,
   "id": "87b59e54",
   "metadata": {},
   "outputs": [
    {
     "data": {
      "text/plain": [
       "array([1.01044007, 0.75793509, 0.87777325, 1.02575126,        nan,\n",
       "              nan,        nan])"
      ]
     },
     "execution_count": 47,
     "metadata": {},
     "output_type": "execute_result"
    }
   ],
   "source": [
    "np.arctan(arr)"
   ]
  },
  {
   "cell_type": "code",
   "execution_count": 48,
   "id": "25723721",
   "metadata": {},
   "outputs": [
    {
     "name": "stderr",
     "output_type": "stream",
     "text": [
      "C:\\Users\\nikik\\AppData\\Local\\Temp\\ipykernel_2416\\2021640537.py:1: RuntimeWarning: invalid value encountered in arctanh\n",
      "  np.arctanh(arr)\n"
     ]
    },
    {
     "data": {
      "text/plain": [
       "array([      nan, 1.7973308,       nan,       nan,       nan,       nan,\n",
       "             nan])"
      ]
     },
     "execution_count": 48,
     "metadata": {},
     "output_type": "execute_result"
    }
   ],
   "source": [
    "np.arctanh(arr)"
   ]
  },
  {
   "cell_type": "code",
   "execution_count": 49,
   "id": "bc1b70a5",
   "metadata": {},
   "outputs": [
    {
     "data": {
      "text/plain": [
       "array([False, False, False, False, False, False, False])"
      ]
     },
     "execution_count": 49,
     "metadata": {},
     "output_type": "execute_result"
    }
   ],
   "source": [
    "np.logical_not(arr)"
   ]
  },
  {
   "cell_type": "markdown",
   "id": "3a2cbef6",
   "metadata": {},
   "source": [
    "<h3>2:</h3>"
   ]
  },
  {
   "cell_type": "markdown",
   "id": "5f007f1a",
   "metadata": {},
   "source": [
    "add(x, y): возвращает сумму x и y.\n",
    "\n",
    "subtract(x, y): возвращает разность x и y.\n",
    "\n",
    "multiply(x, y): возвращает произведение x и y.\n",
    "\n",
    "divide(x, y): возвращает частное от деления x на y.\n",
    "\n",
    "floor_divide(x, y): возвращает частное от деления x на y, округленное до ближайшего меньшего целого.\n",
    "\n",
    "power(x, y): возвращает x в степени y.\n",
    "\n",
    "maximum(x, y): возвращает максимальное значение из x и y.\n",
    "\n",
    "fmax(x, y): возвращает максимальное значение из x и y, где NaN игнорируется.\n",
    "\n",
    "minimum(x, y): возвращает минимальное значение из x и y.\n",
    "\n",
    "fmin(x, y): возвращает минимальное значение из x и y, где NaN игнорируется.\n",
    "\n",
    "mod(x, y): возвращает остаток от деления x на y.\n",
    "\n",
    "copysign(x, y): возвращает число с абсолютным значением из x и знаком из y.\n",
    "\n",
    "greater(x, y): возвращает True, если x больше, чем y.\n",
    "\n",
    "greater_equal(x, y): возвращает True, если x больше или равно y.\n",
    "\n",
    "less(x, y): возвращает True, если x меньше, чем y.\n",
    "\n",
    "less_equal(x, y): возвращает True, если x меньше или равно y.\n",
    "\n",
    "equal(x, y): возвращает True, если x равно y.\n",
    "\n",
    "not_equal(x, y): возвращает True, если x не равно y.\n",
    "\n",
    "logical_and(x, y): возвращает логическое \"И\" для соответствующих элементов массивов.\n",
    "\n",
    "logical_or(x, y): возвращает логическое \"ИЛИ\" для соответствующих элементов массивов.\n",
    "\n",
    "logical_xor(x, y): возвращает логическое \"исключающее ИЛИ\" для соответствующих элементов массивов."
   ]
  },
  {
   "cell_type": "code",
   "execution_count": 51,
   "id": "83aaa207",
   "metadata": {},
   "outputs": [
    {
     "data": {
      "text/plain": [
       "array([3.18752565, 1.89305779, 2.40838745, 3.29865172,        nan,\n",
       "              nan,        nan])"
      ]
     },
     "execution_count": 51,
     "metadata": {},
     "output_type": "execute_result"
    }
   ],
   "source": [
    "np.add(arr, arr)"
   ]
  },
  {
   "cell_type": "code",
   "execution_count": 52,
   "id": "f3e66b77",
   "metadata": {},
   "outputs": [
    {
     "data": {
      "text/plain": [
       "array([ 0.,  0.,  0.,  0., nan, nan, nan])"
      ]
     },
     "execution_count": 52,
     "metadata": {},
     "output_type": "execute_result"
    }
   ],
   "source": [
    "np.subtract(arr, arr)"
   ]
  },
  {
   "cell_type": "code",
   "execution_count": 53,
   "id": "ad369ecb",
   "metadata": {},
   "outputs": [
    {
     "data": {
      "text/plain": [
       "array([2.54007994, 0.89591695, 1.45008253, 2.72027579,        nan,\n",
       "              nan,        nan])"
      ]
     },
     "execution_count": 53,
     "metadata": {},
     "output_type": "execute_result"
    }
   ],
   "source": [
    "np.multiply(arr, arr)"
   ]
  },
  {
   "cell_type": "code",
   "execution_count": 56,
   "id": "08e0e7bb",
   "metadata": {},
   "outputs": [
    {
     "data": {
      "text/plain": [
       "array([ 1.,  1.,  1.,  1., nan, nan, nan])"
      ]
     },
     "execution_count": 56,
     "metadata": {},
     "output_type": "execute_result"
    }
   ],
   "source": [
    "np.divide(arr, arr)"
   ]
  },
  {
   "cell_type": "code",
   "execution_count": 57,
   "id": "989e2670",
   "metadata": {},
   "outputs": [
    {
     "name": "stderr",
     "output_type": "stream",
     "text": [
      "C:\\Users\\nikik\\AppData\\Local\\Temp\\ipykernel_2416\\232722763.py:1: RuntimeWarning: invalid value encountered in floor_divide\n",
      "  np.floor_divide(arr, arr)\n"
     ]
    },
    {
     "data": {
      "text/plain": [
       "array([ 1.,  1.,  1.,  1., nan, nan, nan])"
      ]
     },
     "execution_count": 57,
     "metadata": {},
     "output_type": "execute_result"
    }
   ],
   "source": [
    "np.floor_divide(arr, arr)"
   ]
  },
  {
   "cell_type": "code",
   "execution_count": 58,
   "id": "5c412646",
   "metadata": {},
   "outputs": [
    {
     "data": {
      "text/plain": [
       "array([2.101916  , 0.9493143 , 1.25076019, 2.28249154,        nan,\n",
       "              nan,        nan])"
      ]
     },
     "execution_count": 58,
     "metadata": {},
     "output_type": "execute_result"
    }
   ],
   "source": [
    "np.power(arr, arr)"
   ]
  },
  {
   "cell_type": "code",
   "execution_count": 59,
   "id": "0714b0a8",
   "metadata": {},
   "outputs": [
    {
     "data": {
      "text/plain": [
       "array([1.59376282, 0.94652889, 1.20419372, 1.64932586,        nan,\n",
       "              nan,        nan])"
      ]
     },
     "execution_count": 59,
     "metadata": {},
     "output_type": "execute_result"
    }
   ],
   "source": [
    "np.maximum(arr, arr)"
   ]
  },
  {
   "cell_type": "code",
   "execution_count": 60,
   "id": "a4f8e6a8",
   "metadata": {},
   "outputs": [
    {
     "data": {
      "text/plain": [
       "array([1.59376282, 0.94652889, 1.20419372, 1.64932586,        nan,\n",
       "              nan,        nan])"
      ]
     },
     "execution_count": 60,
     "metadata": {},
     "output_type": "execute_result"
    }
   ],
   "source": [
    "np.fmax(arr, arr)"
   ]
  },
  {
   "cell_type": "code",
   "execution_count": 61,
   "id": "c8a8eaba",
   "metadata": {},
   "outputs": [
    {
     "data": {
      "text/plain": [
       "array([1.59376282, 0.94652889, 1.20419372, 1.64932586,        nan,\n",
       "              nan,        nan])"
      ]
     },
     "execution_count": 61,
     "metadata": {},
     "output_type": "execute_result"
    }
   ],
   "source": [
    "np.minimum(arr, arr)"
   ]
  },
  {
   "cell_type": "code",
   "execution_count": 63,
   "id": "82f12966",
   "metadata": {},
   "outputs": [
    {
     "data": {
      "text/plain": [
       "array([1.59376282, 0.94652889, 1.20419372, 1.64932586,        nan,\n",
       "              nan,        nan])"
      ]
     },
     "execution_count": 63,
     "metadata": {},
     "output_type": "execute_result"
    }
   ],
   "source": [
    "np.fmin(arr, arr)"
   ]
  },
  {
   "cell_type": "code",
   "execution_count": 64,
   "id": "d2cf119b",
   "metadata": {},
   "outputs": [
    {
     "name": "stderr",
     "output_type": "stream",
     "text": [
      "C:\\Users\\nikik\\AppData\\Local\\Temp\\ipykernel_2416\\1813593803.py:1: RuntimeWarning: invalid value encountered in remainder\n",
      "  np.mod(arr, arr)\n"
     ]
    },
    {
     "data": {
      "text/plain": [
       "array([ 0.,  0.,  0.,  0., nan, nan, nan])"
      ]
     },
     "execution_count": 64,
     "metadata": {},
     "output_type": "execute_result"
    }
   ],
   "source": [
    "np.mod(arr, arr)"
   ]
  },
  {
   "cell_type": "code",
   "execution_count": 66,
   "id": "35ed947f",
   "metadata": {},
   "outputs": [
    {
     "data": {
      "text/plain": [
       "array([1.59376282, 0.94652889, 1.20419372, 1.64932586,        nan,\n",
       "              nan,        nan])"
      ]
     },
     "execution_count": 66,
     "metadata": {},
     "output_type": "execute_result"
    }
   ],
   "source": [
    "np.copysign(arr,arr)"
   ]
  },
  {
   "cell_type": "code",
   "execution_count": 67,
   "id": "1598b96d",
   "metadata": {},
   "outputs": [
    {
     "data": {
      "text/plain": [
       "array([False, False, False, False, False, False, False])"
      ]
     },
     "execution_count": 67,
     "metadata": {},
     "output_type": "execute_result"
    }
   ],
   "source": [
    "np.greater(arr, arr)"
   ]
  },
  {
   "cell_type": "code",
   "execution_count": 68,
   "id": "23b0f2ce",
   "metadata": {},
   "outputs": [
    {
     "data": {
      "text/plain": [
       "array([ True,  True,  True,  True, False, False, False])"
      ]
     },
     "execution_count": 68,
     "metadata": {},
     "output_type": "execute_result"
    }
   ],
   "source": [
    "np.greater_equal(arr, arr)"
   ]
  },
  {
   "cell_type": "code",
   "execution_count": 69,
   "id": "2635e9cc",
   "metadata": {},
   "outputs": [
    {
     "data": {
      "text/plain": [
       "array([False, False, False, False, False, False, False])"
      ]
     },
     "execution_count": 69,
     "metadata": {},
     "output_type": "execute_result"
    }
   ],
   "source": [
    "np.less(arr,arr)"
   ]
  },
  {
   "cell_type": "code",
   "execution_count": 70,
   "id": "cd643510",
   "metadata": {},
   "outputs": [
    {
     "data": {
      "text/plain": [
       "array([ True,  True,  True,  True, False, False, False])"
      ]
     },
     "execution_count": 70,
     "metadata": {},
     "output_type": "execute_result"
    }
   ],
   "source": [
    "np.less_equal(arr, arr)"
   ]
  },
  {
   "cell_type": "code",
   "execution_count": 71,
   "id": "d9920a07",
   "metadata": {},
   "outputs": [
    {
     "data": {
      "text/plain": [
       "array([ True,  True,  True,  True, False, False, False])"
      ]
     },
     "execution_count": 71,
     "metadata": {},
     "output_type": "execute_result"
    }
   ],
   "source": [
    "np.equal(arr,arr)"
   ]
  },
  {
   "cell_type": "code",
   "execution_count": 72,
   "id": "bc66995c",
   "metadata": {},
   "outputs": [
    {
     "data": {
      "text/plain": [
       "array([False, False, False, False,  True,  True,  True])"
      ]
     },
     "execution_count": 72,
     "metadata": {},
     "output_type": "execute_result"
    }
   ],
   "source": [
    "np.not_equal(arr, arr)"
   ]
  },
  {
   "cell_type": "code",
   "execution_count": 73,
   "id": "a71f7550",
   "metadata": {},
   "outputs": [
    {
     "data": {
      "text/plain": [
       "array([ True,  True,  True,  True,  True,  True,  True])"
      ]
     },
     "execution_count": 73,
     "metadata": {},
     "output_type": "execute_result"
    }
   ],
   "source": [
    "np.logical_and(arr, arr)"
   ]
  },
  {
   "cell_type": "code",
   "execution_count": 74,
   "id": "ebc063c8",
   "metadata": {},
   "outputs": [
    {
     "data": {
      "text/plain": [
       "array([ True,  True,  True,  True,  True,  True,  True])"
      ]
     },
     "execution_count": 74,
     "metadata": {},
     "output_type": "execute_result"
    }
   ],
   "source": [
    "np.logical_or(arr, arr)"
   ]
  },
  {
   "cell_type": "code",
   "execution_count": 75,
   "id": "44270b66",
   "metadata": {},
   "outputs": [
    {
     "data": {
      "text/plain": [
       "array([False, False, False, False, False, False, False])"
      ]
     },
     "execution_count": 75,
     "metadata": {},
     "output_type": "execute_result"
    }
   ],
   "source": [
    "np.logical_xor(arr, arr)"
   ]
  },
  {
   "cell_type": "markdown",
   "id": "696bde0b",
   "metadata": {},
   "source": [
    "<h2>Программирование с помощью массивов</h2>"
   ]
  },
  {
   "cell_type": "code",
   "execution_count": 76,
   "id": "6a8497fa",
   "metadata": {},
   "outputs": [],
   "source": [
    "import numpy as np\n",
    "\n",
    "xarr = np.array([1.1,1.2,1.3,1.4,1.5])\n",
    "yarr = np.array([2.1,2.2,2.3,2.4,2.5])\n",
    "cond = np.array([True, False, True, True, False])"
   ]
  },
  {
   "cell_type": "code",
   "execution_count": 81,
   "id": "b2afddb1",
   "metadata": {},
   "outputs": [
    {
     "data": {
      "text/plain": [
       "[1.1, 2.2, 1.3, 1.4, 2.5]"
      ]
     },
     "execution_count": 81,
     "metadata": {},
     "output_type": "execute_result"
    }
   ],
   "source": [
    "result = [(x if c else y) for x,y,c in zip(xarr,yarr, cond)]\n",
    "result"
   ]
  },
  {
   "cell_type": "code",
   "execution_count": 79,
   "id": "7f7c7bb2",
   "metadata": {},
   "outputs": [
    {
     "data": {
      "text/plain": [
       "array([1.1, 2.2, 1.3, 1.4, 2.5])"
      ]
     },
     "execution_count": 79,
     "metadata": {},
     "output_type": "execute_result"
    }
   ],
   "source": [
    "result = np.where(cond, xarr, yarr)\n",
    "result"
   ]
  },
  {
   "cell_type": "code",
   "execution_count": 82,
   "id": "9dd25665",
   "metadata": {},
   "outputs": [
    {
     "data": {
      "text/plain": [
       "array([[ 1.58043019,  0.61189199, -0.61541542,  0.510631  ],\n",
       "       [ 0.68635141, -0.2478695 , -0.24855384,  0.29052013],\n",
       "       [ 1.03450827, -0.64968703,  0.85718114, -1.26962075],\n",
       "       [ 0.48346356, -0.15436411,  0.07697315,  0.76521164]])"
      ]
     },
     "execution_count": 82,
     "metadata": {},
     "output_type": "execute_result"
    }
   ],
   "source": [
    "import numpy as np\n",
    "\n",
    "arr = np.random.randn(4,4)\n",
    "arr"
   ]
  },
  {
   "cell_type": "code",
   "execution_count": 83,
   "id": "a9bf62bd",
   "metadata": {},
   "outputs": [
    {
     "data": {
      "text/plain": [
       "array([[ True,  True, False,  True],\n",
       "       [ True, False, False,  True],\n",
       "       [ True, False,  True, False],\n",
       "       [ True, False,  True,  True]])"
      ]
     },
     "execution_count": 83,
     "metadata": {},
     "output_type": "execute_result"
    }
   ],
   "source": [
    "arr > 0"
   ]
  },
  {
   "cell_type": "code",
   "execution_count": 85,
   "id": "900cd76e",
   "metadata": {},
   "outputs": [
    {
     "data": {
      "text/plain": [
       "array([[ 2,  2, -2,  2],\n",
       "       [ 2, -2, -2,  2],\n",
       "       [ 2, -2,  2, -2],\n",
       "       [ 2, -2,  2,  2]])"
      ]
     },
     "execution_count": 85,
     "metadata": {},
     "output_type": "execute_result"
    }
   ],
   "source": [
    "np.where(arr > 0, 2, -2)"
   ]
  },
  {
   "cell_type": "code",
   "execution_count": 86,
   "id": "fa1c2a70",
   "metadata": {},
   "outputs": [
    {
     "data": {
      "text/plain": [
       "array([[ 2.        ,  2.        , -0.61541542,  2.        ],\n",
       "       [ 2.        , -0.2478695 , -0.24855384,  2.        ],\n",
       "       [ 2.        , -0.64968703,  2.        , -1.26962075],\n",
       "       [ 2.        , -0.15436411,  2.        ,  2.        ]])"
      ]
     },
     "execution_count": 86,
     "metadata": {},
     "output_type": "execute_result"
    }
   ],
   "source": [
    "np.where(arr > 0, 2, arr)"
   ]
  },
  {
   "cell_type": "markdown",
   "id": "e5c5d11d",
   "metadata": {},
   "source": [
    "<h2>Математическое и статическое операции</h2>"
   ]
  },
  {
   "cell_type": "code",
   "execution_count": 87,
   "id": "98bd1376",
   "metadata": {},
   "outputs": [
    {
     "data": {
      "text/plain": [
       "array([[ 0.84454447, -0.31598925,  0.65815446,  1.95138934],\n",
       "       [-1.05774996,  0.25939957,  0.91620177,  1.62301105],\n",
       "       [-0.39358207,  1.21125296,  1.50349992,  0.63943745],\n",
       "       [ 0.51759895, -0.68899393,  0.39536137, -0.56289681],\n",
       "       [-0.51605162, -1.19697048, -0.30681969, -0.96957455]])"
      ]
     },
     "execution_count": 87,
     "metadata": {},
     "output_type": "execute_result"
    }
   ],
   "source": [
    "import numpy as np\n",
    "\n",
    "arr = np.random.randn(5, 4)\n",
    "arr"
   ]
  },
  {
   "cell_type": "code",
   "execution_count": 88,
   "id": "cc14dab1",
   "metadata": {},
   "outputs": [
    {
     "data": {
      "text/plain": [
       "0.22556114699998053"
      ]
     },
     "execution_count": 88,
     "metadata": {},
     "output_type": "execute_result"
    }
   ],
   "source": [
    "arr.mean()"
   ]
  },
  {
   "cell_type": "code",
   "execution_count": 90,
   "id": "ebf04af3",
   "metadata": {},
   "outputs": [
    {
     "data": {
      "text/plain": [
       "0.22556114699998053"
      ]
     },
     "execution_count": 90,
     "metadata": {},
     "output_type": "execute_result"
    }
   ],
   "source": [
    "np.mean(arr)"
   ]
  },
  {
   "cell_type": "code",
   "execution_count": 91,
   "id": "c3197cf2",
   "metadata": {},
   "outputs": [
    {
     "data": {
      "text/plain": [
       "4.511222939999611"
      ]
     },
     "execution_count": 91,
     "metadata": {},
     "output_type": "execute_result"
    }
   ],
   "source": [
    "arr.sum()"
   ]
  },
  {
   "cell_type": "code",
   "execution_count": 92,
   "id": "154f3b19",
   "metadata": {},
   "outputs": [
    {
     "data": {
      "text/plain": [
       "array([ 0.78452475,  0.43521561,  0.74015206, -0.08473261, -0.74735409])"
      ]
     },
     "execution_count": 92,
     "metadata": {},
     "output_type": "execute_result"
    }
   ],
   "source": [
    "arr.mean(axis=1)"
   ]
  },
  {
   "cell_type": "code",
   "execution_count": 93,
   "id": "58fba023",
   "metadata": {},
   "outputs": [
    {
     "data": {
      "text/plain": [
       "array([-0.60524024, -0.73130114,  3.16639783,  2.68136648])"
      ]
     },
     "execution_count": 93,
     "metadata": {},
     "output_type": "execute_result"
    }
   ],
   "source": [
    "arr.sum(axis=0)"
   ]
  },
  {
   "cell_type": "code",
   "execution_count": 96,
   "id": "5121c0f5",
   "metadata": {},
   "outputs": [
    {
     "data": {
      "text/plain": [
       "array([ 1,  3,  6, 10, 15, 21, 28], dtype=int32)"
      ]
     },
     "execution_count": 96,
     "metadata": {},
     "output_type": "execute_result"
    }
   ],
   "source": [
    "import numpy as np\n",
    "\n",
    "arr = np.array([1,2,3,4,5,6,7])\n",
    "arr.cumsum()"
   ]
  },
  {
   "cell_type": "code",
   "execution_count": 99,
   "id": "09997257",
   "metadata": {},
   "outputs": [
    {
     "data": {
      "text/plain": [
       "array([[1, 2, 3],\n",
       "       [4, 5, 6],\n",
       "       [7, 8, 9]])"
      ]
     },
     "execution_count": 99,
     "metadata": {},
     "output_type": "execute_result"
    }
   ],
   "source": [
    "import numpy as np\n",
    "\n",
    "arr = np.array([[1,2,3],[4,5,6],[7,8,9]])\n",
    "arr"
   ]
  },
  {
   "cell_type": "code",
   "execution_count": 100,
   "id": "fb65df3f",
   "metadata": {},
   "outputs": [
    {
     "data": {
      "text/plain": [
       "array([[ 1,  2,  3],\n",
       "       [ 5,  7,  9],\n",
       "       [12, 15, 18]], dtype=int32)"
      ]
     },
     "execution_count": 100,
     "metadata": {},
     "output_type": "execute_result"
    }
   ],
   "source": [
    "arr.cumsum(axis=0)"
   ]
  },
  {
   "cell_type": "code",
   "execution_count": 103,
   "id": "7c8b1cbc",
   "metadata": {},
   "outputs": [
    {
     "data": {
      "text/plain": [
       "array([[  1,   2,   6],\n",
       "       [  4,  20, 120],\n",
       "       [  7,  56, 504]], dtype=int32)"
      ]
     },
     "execution_count": 103,
     "metadata": {},
     "output_type": "execute_result"
    }
   ],
   "source": [
    "arr.cumprod(axis=1)"
   ]
  },
  {
   "cell_type": "markdown",
   "id": "e3fb91b1",
   "metadata": {},
   "source": [
    "<h2>Задание 2:</h2>"
   ]
  },
  {
   "cell_type": "markdown",
   "id": "5d30b4e7",
   "metadata": {},
   "source": [
    "sum(arr): возвращает сумму всех элементов в массиве arr.\n",
    "\n",
    "mean(arr): возвращает среднее значение всех элементов в массиве arr.\n",
    "\n",
    "std(arr): возвращает стандартное отклонение элементов в массиве arr.\n",
    "\n",
    "var(arr): возвращает дисперсию элементов в массиве arr.\n",
    "\n",
    "min(arr): возвращает минимальное значение из всех элементов в массиве arr.\n",
    "\n",
    "max(arr): возвращает максимальное значение из всех элементов в массиве arr.\n",
    "\n",
    "argmin(arr): возвращает индекс минимального значения в массиве arr.\n",
    "\n",
    "argmax(arr): возвращает индекс максимального значения в массиве arr.\n",
    "\n",
    "cumsum(arr): возвращает массив, содержащий накопленную сумму элементов в массиве arr.\n",
    "\n",
    "cumprod(arr): возвращает массив, содержащий накопленное произведение элементов в массиве arr."
   ]
  },
  {
   "cell_type": "code",
   "execution_count": 104,
   "id": "45973322",
   "metadata": {},
   "outputs": [
    {
     "data": {
      "text/plain": [
       "45"
      ]
     },
     "execution_count": 104,
     "metadata": {},
     "output_type": "execute_result"
    }
   ],
   "source": [
    "arr.sum()"
   ]
  },
  {
   "cell_type": "code",
   "execution_count": 105,
   "id": "ab6568ae",
   "metadata": {},
   "outputs": [
    {
     "data": {
      "text/plain": [
       "5.0"
      ]
     },
     "execution_count": 105,
     "metadata": {},
     "output_type": "execute_result"
    }
   ],
   "source": [
    "arr.mean()"
   ]
  },
  {
   "cell_type": "code",
   "execution_count": 106,
   "id": "efbe890c",
   "metadata": {},
   "outputs": [
    {
     "data": {
      "text/plain": [
       "2.581988897471611"
      ]
     },
     "execution_count": 106,
     "metadata": {},
     "output_type": "execute_result"
    }
   ],
   "source": [
    "arr.std()"
   ]
  },
  {
   "cell_type": "code",
   "execution_count": 107,
   "id": "52542e91",
   "metadata": {},
   "outputs": [
    {
     "data": {
      "text/plain": [
       "6.666666666666667"
      ]
     },
     "execution_count": 107,
     "metadata": {},
     "output_type": "execute_result"
    }
   ],
   "source": [
    "arr.var()"
   ]
  },
  {
   "cell_type": "code",
   "execution_count": 108,
   "id": "5068ab89",
   "metadata": {},
   "outputs": [
    {
     "data": {
      "text/plain": [
       "1"
      ]
     },
     "execution_count": 108,
     "metadata": {},
     "output_type": "execute_result"
    }
   ],
   "source": [
    "arr.min()"
   ]
  },
  {
   "cell_type": "code",
   "execution_count": 109,
   "id": "0c3e2ce3",
   "metadata": {},
   "outputs": [
    {
     "data": {
      "text/plain": [
       "9"
      ]
     },
     "execution_count": 109,
     "metadata": {},
     "output_type": "execute_result"
    }
   ],
   "source": [
    "arr.max()"
   ]
  },
  {
   "cell_type": "code",
   "execution_count": 110,
   "id": "b5d14b80",
   "metadata": {},
   "outputs": [
    {
     "data": {
      "text/plain": [
       "8"
      ]
     },
     "execution_count": 110,
     "metadata": {},
     "output_type": "execute_result"
    }
   ],
   "source": [
    "arr.argmax()"
   ]
  },
  {
   "cell_type": "code",
   "execution_count": 113,
   "id": "d658ea96",
   "metadata": {},
   "outputs": [
    {
     "data": {
      "text/plain": [
       "array([[ 1,  2,  3],\n",
       "       [ 5,  7,  9],\n",
       "       [12, 15, 18]], dtype=int32)"
      ]
     },
     "execution_count": 113,
     "metadata": {},
     "output_type": "execute_result"
    }
   ],
   "source": [
    "arr.cumsum(axis=0)"
   ]
  },
  {
   "cell_type": "code",
   "execution_count": 114,
   "id": "ec0d533b",
   "metadata": {},
   "outputs": [
    {
     "data": {
      "text/plain": [
       "array([[  1,   2,   6],\n",
       "       [  4,  20, 120],\n",
       "       [  7,  56, 504]], dtype=int32)"
      ]
     },
     "execution_count": 114,
     "metadata": {},
     "output_type": "execute_result"
    }
   ],
   "source": [
    "arr.cumprod(axis=1)"
   ]
  },
  {
   "cell_type": "markdown",
   "id": "a3ad5f22",
   "metadata": {},
   "source": [
    "<h2>Методы булевых массивов</h2>"
   ]
  },
  {
   "cell_type": "code",
   "execution_count": 116,
   "id": "d8695fa6",
   "metadata": {},
   "outputs": [
    {
     "data": {
      "text/plain": [
       "46"
      ]
     },
     "execution_count": 116,
     "metadata": {},
     "output_type": "execute_result"
    }
   ],
   "source": [
    "import numpy as np\n",
    "\n",
    "arr = np.random.randn(100)\n",
    "(arr > 0).sum()"
   ]
  },
  {
   "cell_type": "code",
   "execution_count": 117,
   "id": "e2e7577a",
   "metadata": {},
   "outputs": [
    {
     "data": {
      "text/plain": [
       "True"
      ]
     },
     "execution_count": 117,
     "metadata": {},
     "output_type": "execute_result"
    }
   ],
   "source": [
    "import numpy as np\n",
    "\n",
    "bools = np.array([False, False, True, False])\n",
    "bools.any()"
   ]
  },
  {
   "cell_type": "code",
   "execution_count": 118,
   "id": "39665eeb",
   "metadata": {},
   "outputs": [
    {
     "data": {
      "text/plain": [
       "False"
      ]
     },
     "execution_count": 118,
     "metadata": {},
     "output_type": "execute_result"
    }
   ],
   "source": [
    "bools.all()"
   ]
  },
  {
   "cell_type": "markdown",
   "id": "28ff5d8a",
   "metadata": {},
   "source": [
    "<h2>Сортировка</h2>"
   ]
  },
  {
   "cell_type": "code",
   "execution_count": 128,
   "id": "b2d9e99a",
   "metadata": {},
   "outputs": [
    {
     "data": {
      "text/plain": [
       "array([-1.56604265, -0.53254277,  0.07599085,  0.66384334, -1.99107889,\n",
       "        0.11521105])"
      ]
     },
     "execution_count": 128,
     "metadata": {},
     "output_type": "execute_result"
    }
   ],
   "source": [
    "import numpy as np\n",
    "\n",
    "arr = np.random.randn(6)\n",
    "arr"
   ]
  },
  {
   "cell_type": "code",
   "execution_count": 129,
   "id": "b51694b7",
   "metadata": {},
   "outputs": [
    {
     "data": {
      "text/plain": [
       "array([-1.99107889, -1.56604265, -0.53254277,  0.07599085,  0.11521105,\n",
       "        0.66384334])"
      ]
     },
     "execution_count": 129,
     "metadata": {},
     "output_type": "execute_result"
    }
   ],
   "source": [
    "arr.sort()\n",
    "arr"
   ]
  },
  {
   "cell_type": "code",
   "execution_count": 130,
   "id": "544e755f",
   "metadata": {},
   "outputs": [
    {
     "data": {
      "text/plain": [
       "array([[-0.96777275,  0.15131589, -0.30733315],\n",
       "       [ 0.59971337,  1.9755904 , -1.23544483],\n",
       "       [-1.9838321 ,  1.09233444, -1.46092092],\n",
       "       [ 0.30089686,  0.0234675 ,  1.09291558],\n",
       "       [ 0.52419216, -1.86730263, -0.44835689]])"
      ]
     },
     "execution_count": 130,
     "metadata": {},
     "output_type": "execute_result"
    }
   ],
   "source": [
    "import numpy as np\n",
    "\n",
    "arr = np.random.randn(5,3)\n",
    "arr"
   ]
  },
  {
   "cell_type": "code",
   "execution_count": 132,
   "id": "341c30c7",
   "metadata": {},
   "outputs": [
    {
     "data": {
      "text/plain": [
       "array([[-0.96777275, -0.30733315,  0.15131589],\n",
       "       [-1.23544483,  0.59971337,  1.9755904 ],\n",
       "       [-1.9838321 , -1.46092092,  1.09233444],\n",
       "       [ 0.0234675 ,  0.30089686,  1.09291558],\n",
       "       [-1.86730263, -0.44835689,  0.52419216]])"
      ]
     },
     "execution_count": 132,
     "metadata": {},
     "output_type": "execute_result"
    }
   ],
   "source": [
    "arr.sort(1)\n",
    "arr"
   ]
  },
  {
   "cell_type": "code",
   "execution_count": 135,
   "id": "d5e3389f",
   "metadata": {},
   "outputs": [
    {
     "data": {
      "text/plain": [
       "-1.699259126141734"
      ]
     },
     "execution_count": 135,
     "metadata": {},
     "output_type": "execute_result"
    }
   ],
   "source": [
    "import numpy as np\n",
    "\n",
    "large_arr = np.random.randn(1000)\n",
    "large_arr.sort()\n",
    "large_arr[int(0.05*len(large_arr))]"
   ]
  },
  {
   "cell_type": "markdown",
   "id": "05b067c9",
   "metadata": {},
   "source": [
    "<h2>Удаление дубликатов и другие теоретико-множественные операции</h2>"
   ]
  },
  {
   "cell_type": "code",
   "execution_count": 136,
   "id": "f5c7444b",
   "metadata": {},
   "outputs": [
    {
     "data": {
      "text/plain": [
       "array(['Bob', 'Joe', 'Will'], dtype='<U4')"
      ]
     },
     "execution_count": 136,
     "metadata": {},
     "output_type": "execute_result"
    }
   ],
   "source": [
    "import numpy as np \n",
    "\n",
    "names = np.array(['Bob', 'Joe', 'Will', 'Bob', 'Will', 'Joe', 'Joe'])\n",
    "\n",
    "np.unique(names)"
   ]
  },
  {
   "cell_type": "code",
   "execution_count": 140,
   "id": "85bd38de",
   "metadata": {},
   "outputs": [
    {
     "data": {
      "text/plain": [
       "array([1, 2, 3, 4])"
      ]
     },
     "execution_count": 140,
     "metadata": {},
     "output_type": "execute_result"
    }
   ],
   "source": [
    "ints = np.array([3,3,3,2,2,1,1,4,4])\n",
    "np.unique(ints)"
   ]
  },
  {
   "cell_type": "code",
   "execution_count": 141,
   "id": "e74a207f",
   "metadata": {},
   "outputs": [
    {
     "data": {
      "text/plain": [
       "['Bob', 'Joe', 'Will']"
      ]
     },
     "execution_count": 141,
     "metadata": {},
     "output_type": "execute_result"
    }
   ],
   "source": [
    "sorted(set(names))"
   ]
  },
  {
   "cell_type": "code",
   "execution_count": 142,
   "id": "54df27ee",
   "metadata": {},
   "outputs": [
    {
     "data": {
      "text/plain": [
       "array([ True, False, False,  True,  True, False,  True])"
      ]
     },
     "execution_count": 142,
     "metadata": {},
     "output_type": "execute_result"
    }
   ],
   "source": [
    "import numpy as np\n",
    "\n",
    "values = np.array([6,0,0,3,2,5,6])\n",
    "np.in1d(values, [2,3,6])"
   ]
  },
  {
   "cell_type": "markdown",
   "id": "87e32bec",
   "metadata": {},
   "source": [
    "<h2>Задание 3:</h2>"
   ]
  },
  {
   "cell_type": "markdown",
   "id": "024b09c0",
   "metadata": {},
   "source": [
    "unique(x): возвращает отсортированный уникальный массив значений из массива x.\n",
    "\n",
    "intersect1d(x, y): возвращает отсортированный массив значений, которые есть в обоих массивах x и y.\n",
    "\n",
    "union1d(x, y): возвращает отсортированный уникальный массив значений, которые есть в массивах x или y.\n",
    "\n",
    "in1d(x, y): возвращает булев массив той же длины, что и массив x, указывающий, содержится ли каждый элемент из x в массиве y.\n",
    "\n",
    "setdiff1d(x, y): возвращает отсортированный массив значений, которые есть в массиве x, но отсутствуют в массиве y.\n",
    "\n",
    "setxor1d(x, y): возвращает отсортированный уникальный массив значений, которые есть только в одном из массивов x или y."
   ]
  },
  {
   "cell_type": "code",
   "execution_count": 146,
   "id": "195d4d4e",
   "metadata": {},
   "outputs": [
    {
     "data": {
      "text/plain": [
       "array([ 0, 23, 45, 90])"
      ]
     },
     "execution_count": 146,
     "metadata": {},
     "output_type": "execute_result"
    }
   ],
   "source": [
    "import numpy as np\n",
    "ints = np.array([0,0,0,23,45,90,90])\n",
    "np.unique(ints)"
   ]
  },
  {
   "cell_type": "code",
   "execution_count": 147,
   "id": "3840a44e",
   "metadata": {},
   "outputs": [
    {
     "data": {
      "text/plain": [
       "array([1, 3])"
      ]
     },
     "execution_count": 147,
     "metadata": {},
     "output_type": "execute_result"
    }
   ],
   "source": [
    "np.intersect1d([1, 3, 4, 3], [3, 1, 2, 1])"
   ]
  },
  {
   "cell_type": "code",
   "execution_count": 148,
   "id": "d46b8402",
   "metadata": {},
   "outputs": [
    {
     "data": {
      "text/plain": [
       "array([1, 2, 3, 4])"
      ]
     },
     "execution_count": 148,
     "metadata": {},
     "output_type": "execute_result"
    }
   ],
   "source": [
    "np.union1d([1,3,4,3],[3,1,2,1])"
   ]
  },
  {
   "cell_type": "code",
   "execution_count": 149,
   "id": "13abe839",
   "metadata": {},
   "outputs": [
    {
     "data": {
      "text/plain": [
       "array([ True,  True, False,  True])"
      ]
     },
     "execution_count": 149,
     "metadata": {},
     "output_type": "execute_result"
    }
   ],
   "source": [
    "np.in1d([1,3,4,3],[3,1,2,1])"
   ]
  },
  {
   "cell_type": "code",
   "execution_count": 150,
   "id": "807a53b6",
   "metadata": {},
   "outputs": [
    {
     "data": {
      "text/plain": [
       "array([4])"
      ]
     },
     "execution_count": 150,
     "metadata": {},
     "output_type": "execute_result"
    }
   ],
   "source": [
    "np.setdiff1d([1,3,4,3],[3,1,2,1])"
   ]
  },
  {
   "cell_type": "code",
   "execution_count": 151,
   "id": "0554e999",
   "metadata": {},
   "outputs": [
    {
     "data": {
      "text/plain": [
       "array([2, 4])"
      ]
     },
     "execution_count": 151,
     "metadata": {},
     "output_type": "execute_result"
    }
   ],
   "source": [
    "np.setxor1d([1,3,4,3],[3,1,2,1])"
   ]
  },
  {
   "cell_type": "markdown",
   "id": "eef9b817",
   "metadata": {},
   "source": [
    "<h2>Файловый ввод-вывод массивов</h2>"
   ]
  },
  {
   "cell_type": "code",
   "execution_count": 153,
   "id": "a23cd187",
   "metadata": {},
   "outputs": [],
   "source": [
    "import numpy as np\n",
    "\n",
    "arr = np.arange(10)\n",
    "np.save('some_array', arr)"
   ]
  },
  {
   "cell_type": "code",
   "execution_count": 154,
   "id": "9b265fbb",
   "metadata": {},
   "outputs": [
    {
     "data": {
      "text/plain": [
       "array([0, 1, 2, 3, 4, 5, 6, 7, 8, 9])"
      ]
     },
     "execution_count": 154,
     "metadata": {},
     "output_type": "execute_result"
    }
   ],
   "source": [
    "np.load('some_array.npy')"
   ]
  },
  {
   "cell_type": "code",
   "execution_count": 155,
   "id": "54f3d822",
   "metadata": {},
   "outputs": [],
   "source": [
    "np.savez('array_archive.npz', a=arr, b=arr)"
   ]
  },
  {
   "cell_type": "code",
   "execution_count": 156,
   "id": "87ca8a2d",
   "metadata": {},
   "outputs": [
    {
     "data": {
      "text/plain": [
       "array([0, 1, 2, 3, 4, 5, 6, 7, 8, 9])"
      ]
     },
     "execution_count": 156,
     "metadata": {},
     "output_type": "execute_result"
    }
   ],
   "source": [
    "arch = np.load('array_archive.npz')\n",
    "arch['b']"
   ]
  },
  {
   "cell_type": "code",
   "execution_count": 157,
   "id": "871624ee",
   "metadata": {},
   "outputs": [],
   "source": [
    "np.savez_compressed('arrays_compressed.npz', a=arr, b=arr)"
   ]
  },
  {
   "cell_type": "markdown",
   "id": "9637ceb3",
   "metadata": {},
   "source": [
    "<h2>Линейная алгебра</h2>"
   ]
  },
  {
   "cell_type": "code",
   "execution_count": 158,
   "id": "1296a9dd",
   "metadata": {},
   "outputs": [
    {
     "data": {
      "text/plain": [
       "array([[1., 2., 3.],\n",
       "       [4., 5., 6.]])"
      ]
     },
     "execution_count": 158,
     "metadata": {},
     "output_type": "execute_result"
    }
   ],
   "source": [
    "import numpy as np\n",
    "\n",
    "x = np.array([[1., 2., 3.], [4., 5., 6.]])\n",
    "y = np.array([[6., 23.], [-1, 7], [8, 9]])\n",
    "x"
   ]
  },
  {
   "cell_type": "code",
   "execution_count": 159,
   "id": "690b8267",
   "metadata": {},
   "outputs": [
    {
     "data": {
      "text/plain": [
       "array([[ 6., 23.],\n",
       "       [-1.,  7.],\n",
       "       [ 8.,  9.]])"
      ]
     },
     "execution_count": 159,
     "metadata": {},
     "output_type": "execute_result"
    }
   ],
   "source": [
    "y"
   ]
  },
  {
   "cell_type": "code",
   "execution_count": 160,
   "id": "faf420c6",
   "metadata": {},
   "outputs": [
    {
     "data": {
      "text/plain": [
       "array([[ 28.,  64.],\n",
       "       [ 67., 181.]])"
      ]
     },
     "execution_count": 160,
     "metadata": {},
     "output_type": "execute_result"
    }
   ],
   "source": [
    "x.dot(y)"
   ]
  },
  {
   "cell_type": "code",
   "execution_count": 161,
   "id": "f8d378d1",
   "metadata": {},
   "outputs": [
    {
     "data": {
      "text/plain": [
       "array([ 6., 15.])"
      ]
     },
     "execution_count": 161,
     "metadata": {},
     "output_type": "execute_result"
    }
   ],
   "source": [
    "np.dot(x, np.ones(3))"
   ]
  },
  {
   "cell_type": "code",
   "execution_count": 163,
   "id": "43b4e1ff",
   "metadata": {},
   "outputs": [
    {
     "data": {
      "text/plain": [
       "array([ 6., 15.])"
      ]
     },
     "execution_count": 163,
     "metadata": {},
     "output_type": "execute_result"
    }
   ],
   "source": [
    "x @ np.ones(3)"
   ]
  },
  {
   "cell_type": "code",
   "execution_count": 164,
   "id": "49c48181",
   "metadata": {},
   "outputs": [
    {
     "data": {
      "text/plain": [
       "array([[ 0.26221083,  0.07325905,  0.07558841,  0.09002644,  0.03450188],\n",
       "       [ 0.07325905,  0.16293892, -0.06285806,  0.05432396,  0.10085009],\n",
       "       [ 0.07558841, -0.06285806,  0.56131368, -0.32869269, -0.21908421],\n",
       "       [ 0.09002644,  0.05432396, -0.32869269,  0.95008529,  0.70358179],\n",
       "       [ 0.03450188,  0.10085009, -0.21908421,  0.70358179,  0.69739655]])"
      ]
     },
     "execution_count": 164,
     "metadata": {},
     "output_type": "execute_result"
    }
   ],
   "source": [
    "from numpy.linalg import inv, qr\n",
    "\n",
    "X = np.random.randn(5,5)\n",
    "mat = X.T.dot(X)\n",
    "inv(mat)"
   ]
  },
  {
   "cell_type": "code",
   "execution_count": 165,
   "id": "f6bd267c",
   "metadata": {},
   "outputs": [
    {
     "data": {
      "text/plain": [
       "array([[ 1.00000000e+00,  6.87596404e-17, -1.62268499e-18,\n",
       "        -1.28697133e-16, -8.58733598e-17],\n",
       "       [ 6.90370512e-17,  1.00000000e+00,  8.43541619e-17,\n",
       "         1.51019983e-16,  1.08937216e-16],\n",
       "       [-2.87986269e-17, -4.26952153e-17,  1.00000000e+00,\n",
       "         1.29844746e-16,  2.44627872e-17],\n",
       "       [-2.24354114e-17, -8.74118947e-17,  8.86950482e-17,\n",
       "         1.00000000e+00,  4.79258722e-16],\n",
       "       [ 1.07313601e-16,  5.24699558e-17,  1.98910447e-16,\n",
       "         2.03512516e-17,  1.00000000e+00]])"
      ]
     },
     "execution_count": 165,
     "metadata": {},
     "output_type": "execute_result"
    }
   ],
   "source": [
    "mat.dot(inv(mat))"
   ]
  },
  {
   "cell_type": "code",
   "execution_count": 166,
   "id": "2800cbaf",
   "metadata": {},
   "outputs": [
    {
     "data": {
      "text/plain": [
       "array([[-9.24768212, 11.81385623,  4.68893337,  9.40851969, -9.73450373],\n",
       "       [ 0.        , -6.27343992, -0.65424613, -2.14799438,  3.08924326],\n",
       "       [ 0.        ,  0.        , -2.28301684, -2.23219577,  1.53856862],\n",
       "       [ 0.        ,  0.        ,  0.        , -4.99882709,  5.95457827],\n",
       "       [ 0.        ,  0.        ,  0.        ,  0.        ,  0.9802281 ]])"
      ]
     },
     "execution_count": 166,
     "metadata": {},
     "output_type": "execute_result"
    }
   ],
   "source": [
    "q,r = qr(mat)\n",
    "r"
   ]
  },
  {
   "cell_type": "markdown",
   "id": "0cde181f",
   "metadata": {},
   "source": [
    "<h2>Генерация псевдо-случайных чисел</h2>"
   ]
  },
  {
   "cell_type": "code",
   "execution_count": 167,
   "id": "80f859e2",
   "metadata": {},
   "outputs": [
    {
     "data": {
      "text/plain": [
       "array([[-0.29051579,  0.40344793,  1.40906339,  0.70851839],\n",
       "       [ 1.06715559,  0.65786767, -0.30911099,  0.0591509 ],\n",
       "       [-0.14307499, -0.49230694, -0.39586578,  0.32704526],\n",
       "       [-0.55138173,  0.1668844 ,  0.74463779,  1.16024432]])"
      ]
     },
     "execution_count": 167,
     "metadata": {},
     "output_type": "execute_result"
    }
   ],
   "source": [
    "import numpy as np\n",
    "\n",
    "samples = np.random.normal(size=(4,4))\n",
    "samples"
   ]
  },
  {
   "cell_type": "code",
   "execution_count": 169,
   "id": "a95887ec",
   "metadata": {},
   "outputs": [
    {
     "name": "stdout",
     "output_type": "stream",
     "text": [
      "1.31 s ± 33.6 ms per loop (mean ± std. dev. of 7 runs, 1 loop each)\n"
     ]
    }
   ],
   "source": [
    "from random import normalvariate\n",
    " \n",
    "N = 1000000\n",
    "%timeit samples = [normalvariate(0,1) for _ in range(N)]"
   ]
  },
  {
   "cell_type": "code",
   "execution_count": 170,
   "id": "0b566b09",
   "metadata": {},
   "outputs": [
    {
     "name": "stdout",
     "output_type": "stream",
     "text": [
      "46.7 ms ± 5.15 ms per loop (mean ± std. dev. of 7 runs, 10 loops each)\n"
     ]
    }
   ],
   "source": [
    "%timeit np.random.normal(size=N)"
   ]
  },
  {
   "cell_type": "code",
   "execution_count": 171,
   "id": "1f74d222",
   "metadata": {},
   "outputs": [],
   "source": [
    "np.random.seed(1234)"
   ]
  },
  {
   "cell_type": "code",
   "execution_count": 172,
   "id": "5a34afba",
   "metadata": {},
   "outputs": [
    {
     "data": {
      "text/plain": [
       "array([ 0.47143516, -1.19097569,  1.43270697, -0.3126519 , -0.72058873,\n",
       "        0.88716294,  0.85958841, -0.6365235 ,  0.01569637, -2.24268495])"
      ]
     },
     "execution_count": 172,
     "metadata": {},
     "output_type": "execute_result"
    }
   ],
   "source": [
    "import numpy as np\n",
    "\n",
    "rng = np.random.RandomState(1234)\n",
    "rng.randn(10)"
   ]
  },
  {
   "cell_type": "code",
   "execution_count": null,
   "id": "4ef5dc7b",
   "metadata": {},
   "outputs": [],
   "source": []
  }
 ],
 "metadata": {
  "kernelspec": {
   "display_name": "Python 3 (ipykernel)",
   "language": "python",
   "name": "python3"
  },
  "language_info": {
   "codemirror_mode": {
    "name": "ipython",
    "version": 3
   },
   "file_extension": ".py",
   "mimetype": "text/x-python",
   "name": "python",
   "nbconvert_exporter": "python",
   "pygments_lexer": "ipython3",
   "version": "3.9.12"
  }
 },
 "nbformat": 4,
 "nbformat_minor": 5
}
